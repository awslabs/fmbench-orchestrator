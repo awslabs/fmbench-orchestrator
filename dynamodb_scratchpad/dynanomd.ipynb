{
 "cells": [
  {
   "cell_type": "code",
   "execution_count": null,
   "metadata": {},
   "outputs": [
    {
     "name": "stdout",
     "output_type": "stream",
     "text": [
      "Table 'fmbench-orchestrator' already exists.\n",
      "Using table 'fmbench-orchestrator'.\n"
     ]
    }
   ],
   "source": [
    "import boto3\n",
    "from botocore.exceptions import ClientError\n",
    "\n",
    "# Initialize the DynamoDB resource\n",
    "dynamodb = boto3.resource(\"dynamodb\", region_name=\"us-east-1\")\n",
    "\n",
    "# Define the table name\n",
    "table_name = \"fmbench-orchestrator\"\n",
    "\n",
    "import boto3\n",
    "import logging\n",
    "from botocore.exceptions import ClientError, NoCredentialsError, PartialCredentialsError\n",
    "\n",
    "logger = logging.getLogger(__name__)\n",
    "\n",
    "\n",
    "def get_or_create_table():\n",
    "    try:\n",
    "        # Initialize DynamoDB resource\n",
    "        dynamodb = boto3.resource(\"dynamodb\")\n",
    "\n",
    "        # Try to load the table (will raise an exception if it doesn't exist)\n",
    "        table = dynamodb.Table(table_name)\n",
    "        table.load()  # Will raise a ResourceNotFoundException if the table doesn't exist\n",
    "        logger.info(f\"Table '{table_name}' already exists.\")\n",
    "    except (NoCredentialsError, PartialCredentialsError):\n",
    "        # If IAM permissions are not available, return None\n",
    "        logger.warning(\n",
    "            \"IAM permissions are not enabled or incomplete. Skipping table creation.\"\n",
    "        )\n",
    "        return None\n",
    "    except ClientError as e:\n",
    "        if e.response[\"Error\"][\"Code\"] == \"ResourceNotFoundException\":\n",
    "            # Table does not exist; create it\n",
    "            logger.info(f\"Table '{table_name}' does not exist. Creating it now...\")\n",
    "            table = dynamodb.create_table(\n",
    "                TableName=table_name,\n",
    "                KeySchema=[{\"AttributeName\": \"UID\", \"KeyType\": \"HASH\"}],\n",
    "                AttributeDefinitions=[{\"AttributeName\": \"UID\", \"AttributeType\": \"S\"}],\n",
    "                BillingMode=\"PAY_PER_REQUEST\", \n",
    "            )\n",
    "            table.wait_until_exists()\n",
    "            logger.info(f\"Table '{table_name}' has been created.\")\n",
    "        else:\n",
    "            # Rethrow if another error occurred\n",
    "            logger.error(f\"Unexpected error: {e}\")\n",
    "            raise e\n",
    "\n",
    "    return table\n",
    "\n",
    "\n",
    "# Use the function\n",
    "table = get_or_create_table()\n",
    "print(f\"Using table '{table_name}'.\")\n"
   ]
  },
  {
   "cell_type": "code",
   "execution_count": null,
   "metadata": {},
   "outputs": [
    {
     "name": "stdout",
     "output_type": "stream",
     "text": [
      "Inserted item: {'uid': '10220', 'state': 'start', 'instance_type': 'g5.2xl', 'fmbench_config_file': 'g5-llama3', 'timestamp': '2024-11-09T14:14:30.717206', 'account_id': 'account_id', 'date': '2024-11-09', 'num': 1}\n"
     ]
    }
   ],
   "source": [
    "from datetime import datetime\n",
    "\n",
    "\n",
    "def insert_item(uid, state, instance_type, fmbench_config_file, account_id, num):\n",
    "    item = {\n",
    "        \"uid\": uid,\n",
    "        \"state\": state,\n",
    "        \"instance_type\": instance_type,\n",
    "        \"fmbench_config_file\": fmbench_config_file,\n",
    "        \"timestamp\": datetime.now().isoformat(),\n",
    "        \"account_id\": account_id,\n",
    "        \"date\": datetime.now().strftime(\"%Y-%m-%d\"),\n",
    "        \"num\": num,\n",
    "    }\n",
    "\n",
    "    table.put_item(Item=item)\n",
    "    print(f\"Inserted item: {item}\")\n",
    "\n",
    "\n",
    "insert_item(\n",
    "    uid=\"10220\",\n",
    "    state=\"start\",\n",
    "    instance_type=\"g5.2xl\",\n",
    "    fmbench_config_file=\"g5-llama3\",\n",
    "    account_id=\"account_id\",\n",
    "    num=1,\n",
    ")\n"
   ]
  },
  {
   "cell_type": "code",
   "execution_count": null,
   "metadata": {},
   "outputs": [
    {
     "name": "stdout",
     "output_type": "stream",
     "text": [
      "All items in table:\n",
      "{'date': '2024-11-09', 'instance_type': 'g5.2xl', 'num': Decimal('1'), 'timestamp': '2024-11-09T14:14:30.717206', 'account_id': 'account_id', 'fmbench_config_file': 'g5-llama3', 'uid': '10220', 'state': 'start'}\n"
     ]
    }
   ],
   "source": [
    "def get_all_items():\n",
    "    try:\n",
    "        response = table.scan()\n",
    "        items = response[\"Items\"]\n",
    "\n",
    "        # Keep scanning if there are more items\n",
    "        while \"LastEvaluatedKey\" in response:\n",
    "            response = table.scan(ExclusiveStartKey=response[\"LastEvaluatedKey\"])\n",
    "            items.extend(response[\"Items\"])\n",
    "\n",
    "        print(\"All items in table:\")\n",
    "        for item in items:\n",
    "            print(item)\n",
    "        return items\n",
    "    except Exception as e:\n",
    "        print(f\"Error fetching items: {e}\")\n",
    "\n",
    "\n",
    "# Example usage\n",
    "all_items = get_all_items()\n"
   ]
  }
 ],
 "metadata": {
  "kernelspec": {
   "display_name": "fmbench_python311",
   "language": "python",
   "name": "python3"
  },
  "language_info": {
   "codemirror_mode": {
    "name": "ipython",
    "version": 3
   },
   "file_extension": ".py",
   "mimetype": "text/x-python",
   "name": "python",
   "nbconvert_exporter": "python",
   "pygments_lexer": "ipython3",
   "version": "3.11.9"
  }
 },
 "nbformat": 4,
 "nbformat_minor": 2
}
